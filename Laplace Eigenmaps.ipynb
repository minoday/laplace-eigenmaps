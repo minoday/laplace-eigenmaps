{
 "cells": [
  {
   "cell_type": "code",
   "execution_count": null,
   "metadata": {},
   "outputs": [],
   "source": [
    "x = torch.rand(4,6,5) #batch_size*feature_dim*num_points\n",
    "\n",
    "###\n",
    "#caculate the distance affinity matrix: \n",
    "inner = -2*torch.matmul(x.transpose(2, 1), x)\n",
    "xx = torch.sum(x**2, dim=1, keepdim=True)\n",
    "pairwise_distance = -xx - inner - xx.transpose(2, 1) #batch_size*num_points*num_points\n",
    "###\n",
    "\n",
    "###\n",
    "#使用热核函数构建weight matrix and compute the laplace matrix：\n",
    "d = np.square(pairwise_distance)\n",
    "d = d/2 # 2 is t\n",
    "w = -torch.exp(d)\n",
    "b = torch.sum(w,dim=1)\n",
    "b = b.reshape(4,5,1).repeat(1,1,5)\n",
    "c = torch.eye(5,5).expand(4,5,5)\n",
    "D = b*c\n",
    "L = D-w\n",
    "###\n",
    "\n",
    "###\n",
    "#compute the eigen of laplace:\n",
    "lamda,f = np.linalg.eig(L)\n",
    "###\n",
    "\n",
    "###\n",
    "#最小的m个非零特征值对应的特征向量作为降维后的结果输出,这里 m=3\n",
    "inds = np.argsort(lamda,axis=1)\n",
    "inds = inds[:,0:3] #3 is the dim of feature we need\n",
    "\n",
    "base = (np.arange(0,4))*5\n",
    "base = base.reshape(4,1)\n",
    "inds = inds+base\n",
    "inds = inds.reshape(4*3)\n",
    "\n",
    "f=torch.from_numpy(f)\n",
    "f = torch.transpose(f, 1, -1)\n",
    "\n",
    "f=f.reshape(20,5) #(batch_size*num_points)*num_points\n",
    "\n",
    "f = f[inds,:]\n",
    "\n",
    "f=f.reshape(4,3,5)\n",
    "f = torch.transpose(f, 1, -1) #final result: batch_size*num_points*feature we need"
   ]
  }
 ],
 "metadata": {
  "kernelspec": {
   "display_name": "Python 3",
   "language": "python",
   "name": "python3"
  },
  "language_info": {
   "codemirror_mode": {
    "name": "ipython",
    "version": 3
   },
   "file_extension": ".py",
   "mimetype": "text/x-python",
   "name": "python",
   "nbconvert_exporter": "python",
   "pygments_lexer": "ipython3",
   "version": "3.7.1"
  }
 },
 "nbformat": 4,
 "nbformat_minor": 2
}
